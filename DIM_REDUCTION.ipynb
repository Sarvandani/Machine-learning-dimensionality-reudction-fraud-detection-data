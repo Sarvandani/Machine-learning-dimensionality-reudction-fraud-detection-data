{
 "cells": [
  {
   "cell_type": "code",
   "execution_count": 96,
   "id": "5ae551da",
   "metadata": {},
   "outputs": [],
   "source": [
    "from pyspark.ml.feature import PCA, StringIndexer, VectorAssembler\n",
    "from pyspark.sql import SparkSession"
   ]
  },
  {
   "cell_type": "code",
   "execution_count": 97,
   "id": "649f1791",
   "metadata": {},
   "outputs": [
    {
     "name": "stdout",
     "output_type": "stream",
     "text": [
      "root\n",
      " |-- Month: string (nullable = true)\n",
      " |-- WeekOfMonth: string (nullable = true)\n",
      " |-- DayOfWeek: string (nullable = true)\n",
      " |-- Make: string (nullable = true)\n",
      " |-- AccidentArea: string (nullable = true)\n",
      " |-- DayOfWeekClaimed: string (nullable = true)\n",
      " |-- MonthClaimed: string (nullable = true)\n",
      " |-- WeekOfMonthClaimed: string (nullable = true)\n",
      " |-- Sex: string (nullable = true)\n",
      " |-- MaritalStatus: string (nullable = true)\n",
      " |-- Age: string (nullable = true)\n",
      " |-- Fault: string (nullable = true)\n",
      " |-- PolicyType: string (nullable = true)\n",
      " |-- VehicleCategory: string (nullable = true)\n",
      " |-- VehiclePrice: string (nullable = true)\n",
      " |-- FraudFound_P: string (nullable = true)\n",
      " |-- PolicyNumber: string (nullable = true)\n",
      " |-- RepNumber: string (nullable = true)\n",
      " |-- Deductible: string (nullable = true)\n",
      " |-- DriverRating: string (nullable = true)\n",
      " |-- Days_Policy_Accident: string (nullable = true)\n",
      " |-- Days_Policy_Claim: string (nullable = true)\n",
      " |-- PastNumberOfClaims: string (nullable = true)\n",
      " |-- AgeOfVehicle: string (nullable = true)\n",
      " |-- AgeOfPolicyHolder: string (nullable = true)\n",
      " |-- PoliceReportFiled: string (nullable = true)\n",
      " |-- WitnessPresent: string (nullable = true)\n",
      " |-- AgentType: string (nullable = true)\n",
      " |-- NumberOfSuppliments: string (nullable = true)\n",
      " |-- AddressChange_Claim: string (nullable = true)\n",
      " |-- NumberOfCars: string (nullable = true)\n",
      " |-- Year: string (nullable = true)\n",
      " |-- BasePolicy: string (nullable = true)\n",
      "\n",
      "33\n"
     ]
    }
   ],
   "source": [
    "# starting Spark session\n",
    "spark = SparkSession.builder \\\n",
    "    .appName(\"Dimensionality Reduction with Spark for CSV\") \\\n",
    "    .getOrCreate()\n",
    "\n",
    "# Load CSV and see columns names and numbers\n",
    "df = spark.read.format(\"csv\").option(\"header\", \"true\").load(\"./fraud_data.csv\")  # Replace with the path to your CSV file\n",
    "df.printSchema()\n",
    "num_cols_df = print(len(df.columns))\n"
   ]
  },
  {
   "cell_type": "code",
   "execution_count": 98,
   "id": "463c6a41",
   "metadata": {},
   "outputs": [
    {
     "name": "stdout",
     "output_type": "stream",
     "text": [
      "+-----+-----------+---------+------+------------+----------------+------------+------------------+------+-------------+---+-------------+--------------------+---------------+---------------+------------+------------+---------+----------+------------+--------------------+-----------------+------------------+------------+-----------------+-----------------+--------------+---------+-------------------+-------------------+------------+----+----------+\n",
      "|Month|WeekOfMonth|DayOfWeek|  Make|AccidentArea|DayOfWeekClaimed|MonthClaimed|WeekOfMonthClaimed|   Sex|MaritalStatus|Age|        Fault|          PolicyType|VehicleCategory|   VehiclePrice|FraudFound_P|PolicyNumber|RepNumber|Deductible|DriverRating|Days_Policy_Accident|Days_Policy_Claim|PastNumberOfClaims|AgeOfVehicle|AgeOfPolicyHolder|PoliceReportFiled|WitnessPresent|AgentType|NumberOfSuppliments|AddressChange_Claim|NumberOfCars|Year|BasePolicy|\n",
      "+-----+-----------+---------+------+------------+----------------+------------+------------------+------+-------------+---+-------------+--------------------+---------------+---------------+------------+------------+---------+----------+------------+--------------------+-----------------+------------------+------------+-----------------+-----------------+--------------+---------+-------------------+-------------------+------------+----+----------+\n",
      "|  Dec|          5|Wednesday| Honda|       Urban|         Tuesday|         Jan|                 1|Female|       Single| 21|Policy Holder|   Sport - Liability|          Sport|more than 69000|           0|           1|       12|       300|           1|        more than 30|     more than 30|              none|     3 years|         26 to 30|               No|            No| External|               none|             1 year|      3 to 4|1994| Liability|\n",
      "|  Jan|          3|Wednesday| Honda|       Urban|          Monday|         Jan|                 4|  Male|       Single| 34|Policy Holder|   Sport - Collision|          Sport|more than 69000|           0|           2|       15|       400|           4|        more than 30|     more than 30|              none|     6 years|         31 to 35|              Yes|            No| External|               none|          no change|   1 vehicle|1994| Collision|\n",
      "|  Oct|          5|   Friday| Honda|       Urban|        Thursday|         Nov|                 2|  Male|      Married| 47|Policy Holder|   Sport - Collision|          Sport|more than 69000|           0|           3|        7|       400|           3|        more than 30|     more than 30|                 1|     7 years|         41 to 50|               No|            No| External|               none|          no change|   1 vehicle|1994| Collision|\n",
      "|  Jun|          2| Saturday|Toyota|       Rural|          Friday|         Jul|                 1|  Male|      Married| 65|  Third Party|   Sedan - Liability|          Sport| 20000 to 29000|           0|           4|        4|       400|           2|        more than 30|     more than 30|                 1| more than 7|         51 to 65|              Yes|            No| External|        more than 5|          no change|   1 vehicle|1994| Liability|\n",
      "|  Jan|          5|   Monday| Honda|       Urban|         Tuesday|         Feb|                 2|Female|       Single| 27|  Third Party|   Sport - Collision|          Sport|more than 69000|           0|           5|        3|       400|           1|        more than 30|     more than 30|              none|     5 years|         31 to 35|               No|            No| External|               none|          no change|   1 vehicle|1994| Collision|\n",
      "|  Oct|          4|   Friday| Honda|       Urban|       Wednesday|         Nov|                 1|  Male|       Single| 20|  Third Party|   Sport - Collision|          Sport|more than 69000|           0|           6|       12|       400|           3|        more than 30|     more than 30|              none|     5 years|         21 to 25|               No|            No| External|             3 to 5|          no change|   1 vehicle|1994| Collision|\n",
      "|  Feb|          1| Saturday| Honda|       Urban|          Monday|         Feb|                 3|  Male|      Married| 36|  Third Party|   Sport - Collision|          Sport|more than 69000|           0|           7|       14|       400|           1|        more than 30|     more than 30|                 1|     7 years|         36 to 40|               No|            No| External|             1 to 2|          no change|   1 vehicle|1994| Collision|\n",
      "|  Nov|          1|   Friday| Honda|       Urban|         Tuesday|         Mar|                 4|  Male|       Single|  0|Policy Holder|   Sport - Collision|          Sport|more than 69000|           0|           8|        1|       400|           4|        more than 30|     more than 30|                 1|         new|         16 to 17|               No|            No| External|               none|          no change|   1 vehicle|1994| Collision|\n",
      "|  Dec|          4| Saturday| Honda|       Urban|       Wednesday|         Dec|                 5|  Male|       Single| 30|Policy Holder|   Sport - Collision|          Sport|more than 69000|           0|           9|        7|       400|           4|        more than 30|     more than 30|              none|     6 years|         31 to 35|               No|           Yes| External|             3 to 5|          no change|   1 vehicle|1994| Collision|\n",
      "|  Apr|          3|  Tuesday|  Ford|       Urban|       Wednesday|         Apr|                 3|  Male|      Married| 42|Policy Holder|Utility - All Perils|        Utility|more than 69000|           0|          10|        7|       400|           1|        more than 30|     more than 30|            2 to 4| more than 7|         36 to 40|               No|            No| External|             3 to 5|          no change|   1 vehicle|1994|All Perils|\n",
      "+-----+-----------+---------+------+------------+----------------+------------+------------------+------+-------------+---+-------------+--------------------+---------------+---------------+------------+------------+---------+----------+------------+--------------------+-----------------+------------------+------------+-----------------+-----------------+--------------+---------+-------------------+-------------------+------------+----+----------+\n",
      "only showing top 10 rows\n",
      "\n"
     ]
    }
   ],
   "source": [
    "# see the contents of data for 10 columns\n",
    "df.show(10)\n"
   ]
  },
  {
   "cell_type": "code",
   "execution_count": 99,
   "id": "c978bdbe",
   "metadata": {},
   "outputs": [
    {
     "name": "stdout",
     "output_type": "stream",
     "text": [
      "['WeekOfMonth', 'DayOfWeek', 'Make', 'AccidentArea', 'DayOfWeekClaimed', 'MonthClaimed', 'WeekOfMonthClaimed', 'Sex', 'MaritalStatus', 'Age', 'Fault', 'PolicyType', 'VehicleCategory', 'VehiclePrice', 'FraudFound_P', 'PolicyNumber', 'RepNumber', 'Deductible', 'DriverRating', 'Days_Policy_Accident', 'Days_Policy_Claim', 'PastNumberOfClaims', 'AgeOfVehicle', 'AgeOfPolicyHolder', 'PoliceReportFiled', 'WitnessPresent', 'AgentType', 'NumberOfSuppliments', 'AddressChange_Claim', 'NumberOfCars', 'Year', 'BasePolicy']\n",
      "32\n"
     ]
    }
   ],
   "source": [
    "# Select the feature columns from the DataFrame\n",
    "feature_cols = df.columns[1:33]  \n",
    "print(feature_cols)\n",
    "print(len(feature_cols))"
   ]
  },
  {
   "cell_type": "code",
   "execution_count": 100,
   "id": "d63d41dd",
   "metadata": {},
   "outputs": [
    {
     "name": "stdout",
     "output_type": "stream",
     "text": [
      "66\n"
     ]
    }
   ],
   "source": [
    "# Increas of columns is expected due to conversion from string to numeric values in the columns\n",
    "# make new data frame and convert string columns to numeric representations\n",
    "indexers = [StringIndexer(inputCol=col, outputCol=col+\"_index\").fit(df) for col in feature_cols]\n",
    "indexed_df = df\n",
    "for indexer in indexers:\n",
    "    indexed_df = indexer.transform(indexed_df)\n",
    "\n",
    "# Select the indexed feature columns for the vector assembly\n",
    "indexed_feature_cols = [col+\"_index\" for col in feature_cols]\n",
    "\n",
    "# Convert the indexed feature columns to a vector column\n",
    "assembler = VectorAssembler(inputCols=indexed_feature_cols, outputCol=\"features\")\n",
    "df_with_features = assembler.transform(indexed_df)\n",
    "num_cols_df = print(len(df_with_features.columns))\n"
   ]
  },
  {
   "cell_type": "code",
   "execution_count": 101,
   "id": "b9e7cd25",
   "metadata": {},
   "outputs": [
    {
     "name": "stdout",
     "output_type": "stream",
     "text": [
      "+-----+-----------+---------+---------+------------+----------------+------------+------------------+------+-------------+---+-------------+--------------------+---------------+---------------+------------+------------+---------+----------+------------+--------------------+-----------------+------------------+------------+-----------------+-----------------+--------------+---------+-------------------+-------------------+------------+----+----------+-----------------+---------------+----------+------------------+----------------------+------------------+------------------------+---------+-------------------+---------+-----------+----------------+---------------------+------------------+------------------+------------------+---------------+----------------+------------------+--------------------------+-----------------------+------------------------+------------------+-----------------------+-----------------------+--------------------+---------------+-------------------------+-------------------------+------------------+----------+----------------+--------------------+--------------------+\n",
      "|Month|WeekOfMonth|DayOfWeek|     Make|AccidentArea|DayOfWeekClaimed|MonthClaimed|WeekOfMonthClaimed|   Sex|MaritalStatus|Age|        Fault|          PolicyType|VehicleCategory|   VehiclePrice|FraudFound_P|PolicyNumber|RepNumber|Deductible|DriverRating|Days_Policy_Accident|Days_Policy_Claim|PastNumberOfClaims|AgeOfVehicle|AgeOfPolicyHolder|PoliceReportFiled|WitnessPresent|AgentType|NumberOfSuppliments|AddressChange_Claim|NumberOfCars|Year|BasePolicy|WeekOfMonth_index|DayOfWeek_index|Make_index|AccidentArea_index|DayOfWeekClaimed_index|MonthClaimed_index|WeekOfMonthClaimed_index|Sex_index|MaritalStatus_index|Age_index|Fault_index|PolicyType_index|VehicleCategory_index|VehiclePrice_index|FraudFound_P_index|PolicyNumber_index|RepNumber_index|Deductible_index|DriverRating_index|Days_Policy_Accident_index|Days_Policy_Claim_index|PastNumberOfClaims_index|AgeOfVehicle_index|AgeOfPolicyHolder_index|PoliceReportFiled_index|WitnessPresent_index|AgentType_index|NumberOfSuppliments_index|AddressChange_Claim_index|NumberOfCars_index|Year_index|BasePolicy_index|            features|         pcaFeatures|\n",
      "+-----+-----------+---------+---------+------------+----------------+------------+------------------+------+-------------+---+-------------+--------------------+---------------+---------------+------------+------------+---------+----------+------------+--------------------+-----------------+------------------+------------+-----------------+-----------------+--------------+---------+-------------------+-------------------+------------+----+----------+-----------------+---------------+----------+------------------+----------------------+------------------+------------------------+---------+-------------------+---------+-----------+----------------+---------------------+------------------+------------------+------------------+---------------+----------------+------------------+--------------------------+-----------------------+------------------------+------------------+-----------------------+-----------------------+--------------------+---------------+-------------------------+-------------------------+------------------+----------+----------------+--------------------+--------------------+\n",
      "|  Dec|          5|Wednesday|    Honda|       Urban|         Tuesday|         Jan|                 1|Female|       Single| 21|Policy Holder|   Sport - Liability|          Sport|more than 69000|           0|           1|       12|       300|           1|        more than 30|     more than 30|              none|     3 years|         26 to 30|               No|            No| External|               none|             1 year|      3 to 4|1994| Liability|              4.0|            4.0|       2.0|               0.0|                   1.0|               0.0|                     2.0|      1.0|                1.0|     41.0|        0.0|             8.0|                  1.0|               2.0|               0.0|               0.0|            5.0|             3.0|               0.0|                       0.0|                    0.0|                     1.0|               6.0|                    4.0|                    0.0|                 0.0|            0.0|                      0.0|                      3.0|               2.0|       0.0|             1.0|(32,[0,1,2,4,6,7,...|[5.70877076561055...|\n",
      "|  Jan|          3|Wednesday|    Honda|       Urban|          Monday|         Jan|                 4|  Male|       Single| 34|Policy Holder|   Sport - Collision|          Sport|more than 69000|           0|           2|       15|       400|           4|        more than 30|     more than 30|              none|     6 years|         31 to 35|              Yes|            No| External|               none|          no change|   1 vehicle|1994| Collision|              0.0|            4.0|       2.0|               0.0|                   0.0|               0.0|                     3.0|      0.0|                1.0|      2.0|        0.0|             3.0|                  1.0|               2.0|               0.0|            6532.0|            6.0|             0.0|               3.0|                       0.0|                    0.0|                     1.0|               2.0|                    0.0|                    1.0|                 0.0|            0.0|                      0.0|                      0.0|               0.0|       0.0|             0.0|(32,[1,2,6,8,9,11...|[6532.00007918130...|\n",
      "|  Oct|          5|   Friday|    Honda|       Urban|        Thursday|         Nov|                 2|  Male|      Married| 47|Policy Holder|   Sport - Collision|          Sport|more than 69000|           0|           3|        7|       400|           3|        more than 30|     more than 30|                 1|     7 years|         41 to 50|               No|            No| External|               none|          no change|   1 vehicle|1994| Collision|              4.0|            1.0|       2.0|               0.0|                   3.0|               6.0|                     0.0|      0.0|                0.0|     21.0|        0.0|             3.0|                  1.0|               2.0|               0.0|            7643.0|            0.0|             0.0|               1.0|                       0.0|                    0.0|                     2.0|               0.0|                    2.0|                    0.0|                 0.0|            0.0|                      0.0|                      0.0|               0.0|       0.0|             0.0|(32,[0,1,2,4,5,9,...|[7643.00029756792...|\n",
      "|  Jun|          2| Saturday|   Toyota|       Rural|          Friday|         Jul|                 1|  Male|      Married| 65|  Third Party|   Sedan - Liability|          Sport| 20000 to 29000|           0|           4|        4|       400|           2|        more than 30|     more than 30|                 1| more than 7|         51 to 65|              Yes|            No| External|        more than 5|          no change|   1 vehicle|1994| Liability|              1.0|            5.0|       1.0|               1.0|                   4.0|               9.0|                     2.0|      0.0|                0.0|     39.0|        1.0|             1.0|                  1.0|               0.0|               0.0|            8754.0|           14.0|             0.0|               2.0|                       0.0|                    0.0|                     2.0|               1.0|                    3.0|                    1.0|                 0.0|            0.0|                      1.0|                      0.0|               0.0|       0.0|             1.0|(32,[0,1,2,3,4,5,...|[8754.00070366543...|\n",
      "|  Jan|          5|   Monday|    Honda|       Urban|         Tuesday|         Feb|                 2|Female|       Single| 27|  Third Party|   Sport - Collision|          Sport|more than 69000|           0|           5|        3|       400|           1|        more than 30|     more than 30|              none|     5 years|         31 to 35|               No|            No| External|               none|          no change|   1 vehicle|1994| Collision|              4.0|            0.0|       2.0|               0.0|                   1.0|               5.0|                     0.0|      1.0|                1.0|      8.0|        1.0|             3.0|                  1.0|               2.0|               0.0|            9865.0|            9.0|             0.0|               0.0|                       0.0|                    0.0|                     1.0|               3.0|                    0.0|                    0.0|                 0.0|            0.0|                      0.0|                      0.0|               0.0|       0.0|             0.0|(32,[0,2,4,5,7,8,...|[9865.00021409774...|\n",
      "|  Oct|          4|   Friday|    Honda|       Urban|       Wednesday|         Nov|                 1|  Male|       Single| 20|  Third Party|   Sport - Collision|          Sport|more than 69000|           0|           6|       12|       400|           3|        more than 30|     more than 30|              none|     5 years|         21 to 25|               No|            No| External|             3 to 5|          no change|   1 vehicle|1994| Collision|              2.0|            1.0|       2.0|               0.0|                   2.0|               6.0|                     2.0|      0.0|                1.0|     61.0|        1.0|             3.0|                  1.0|               2.0|               0.0|           10976.0|            5.0|             0.0|               1.0|                       0.0|                    0.0|                     1.0|               3.0|                    7.0|                    0.0|                 0.0|            0.0|                      3.0|                      0.0|               0.0|       0.0|             0.0|(32,[0,1,2,4,5,6,...|[10976.0008502726...|\n",
      "|  Feb|          1| Saturday|    Honda|       Urban|          Monday|         Feb|                 3|  Male|      Married| 36|  Third Party|   Sport - Collision|          Sport|more than 69000|           0|           7|       14|       400|           1|        more than 30|     more than 30|                 1|     7 years|         36 to 40|               No|            No| External|             1 to 2|          no change|   1 vehicle|1994| Collision|              3.0|            5.0|       2.0|               0.0|                   0.0|               5.0|                     1.0|      0.0|                0.0|     14.0|        1.0|             3.0|                  1.0|               2.0|               0.0|           12087.0|           12.0|             0.0|               0.0|                       0.0|                    0.0|                     2.0|               0.0|                    1.0|                    0.0|                 0.0|            0.0|                      2.0|                      0.0|               0.0|       0.0|             0.0|(32,[0,1,2,5,6,9,...|[12087.0003233404...|\n",
      "|  Nov|          1|   Friday|    Honda|       Urban|         Tuesday|         Mar|                 4|  Male|       Single|  0|Policy Holder|   Sport - Collision|          Sport|more than 69000|           0|           8|        1|       400|           4|        more than 30|     more than 30|                 1|         new|         16 to 17|               No|            No| External|               none|          no change|   1 vehicle|1994| Collision|              3.0|            1.0|       2.0|               0.0|                   1.0|               2.0|                     3.0|      0.0|                1.0|     20.0|        0.0|             3.0|                  1.0|               2.0|               0.0|           13198.0|            2.0|             0.0|               3.0|                       0.0|                    0.0|                     2.0|               4.0|                    6.0|                    0.0|                 0.0|            0.0|                      0.0|                      0.0|               0.0|       0.0|             0.0|(32,[0,1,2,4,5,6,...|[13198.0002604316...|\n",
      "|  Dec|          4| Saturday|    Honda|       Urban|       Wednesday|         Dec|                 5|  Male|       Single| 30|Policy Holder|   Sport - Collision|          Sport|more than 69000|           0|           9|        7|       400|           4|        more than 30|     more than 30|              none|     6 years|         31 to 35|               No|           Yes| External|             3 to 5|          no change|   1 vehicle|1994| Collision|              2.0|            5.0|       2.0|               0.0|                   2.0|              10.0|                     4.0|      0.0|                1.0|      0.0|        0.0|             3.0|                  1.0|               2.0|               0.0|           14309.0|            0.0|             0.0|               3.0|                       0.0|                    0.0|                     1.0|               2.0|                    0.0|                    0.0|                 1.0|            0.0|                      3.0|                      0.0|               0.0|       0.0|             0.0|(32,[0,1,2,4,5,6,...|[14309.0000473492...|\n",
      "|  Apr|          3|  Tuesday|     Ford|       Urban|       Wednesday|         Apr|                 3|  Male|      Married| 42|Policy Holder|Utility - All Perils|        Utility|more than 69000|           0|          10|        7|       400|           1|        more than 30|     more than 30|            2 to 4| more than 7|         36 to 40|               No|            No| External|             3 to 5|          no change|   1 vehicle|1994|All Perils|              0.0|            2.0|       6.0|               0.0|                   2.0|               7.0|                     1.0|      0.0|                0.0|     16.0|        0.0|             4.0|                  2.0|               2.0|               0.0|               1.0|            0.0|             0.0|               0.0|                       0.0|                    0.0|                     0.0|               1.0|                    1.0|                    0.0|                 0.0|            0.0|                      3.0|                      0.0|               0.0|       0.0|             2.0|(32,[1,2,4,5,6,9,...|[1.00027372201522...|\n",
      "|  Mar|          2|   Sunday|    Mazda|       Urban|       Wednesday|         Mar|                 3|  Male|       Single| 71|Policy Holder|  Sedan - All Perils|          Sedan|more than 69000|           0|          11|        7|       400|           3|        more than 30|     more than 30|              none| more than 7|          over 65|               No|            No| External|               none|          no change|   1 vehicle|1994|All Perils|              1.0|            6.0|       3.0|               0.0|                   2.0|               2.0|                     1.0|      0.0|                1.0|     50.0|        0.0|             2.0|                  0.0|               2.0|               0.0|            1112.0|            0.0|             0.0|               1.0|                       0.0|                    0.0|                     1.0|               1.0|                    5.0|                    0.0|                 0.0|            0.0|                      0.0|                      0.0|               0.0|       0.0|             2.0|(32,[0,1,2,4,5,6,...|[1112.00065166070...|\n",
      "|  Mar|          5|   Monday|    Honda|       Urban|          Monday|         Mar|                 5|  Male|      Married| 52|Policy Holder|   Sedan - Liability|          Sport| 20000 to 29000|           0|          12|       13|       400|           1|        more than 30|     more than 30|            2 to 4| more than 7|         41 to 50|               No|            No| External|               none|          no change|   1 vehicle|1994| Liability|              4.0|            0.0|       2.0|               0.0|                   0.0|               2.0|                     4.0|      0.0|                0.0|     28.0|        0.0|             1.0|                  1.0|               0.0|               0.0|            2223.0|           15.0|             0.0|               0.0|                       0.0|                    0.0|                     0.0|               1.0|                    2.0|                    0.0|                 0.0|            0.0|                      0.0|                      0.0|               0.0|       0.0|             1.0|(32,[0,2,5,6,9,11...|[2223.00052003853...|\n",
      "|  Jan|          3|   Friday|     Ford|       Urban|          Friday|         Jan|                 3|  Male|      Married| 28|Policy Holder|   Sedan - Liability|          Sport|more than 69000|           0|          13|       11|       400|           1|        more than 30|     more than 30|                 1|     7 years|         31 to 35|               No|            No| External|               none|          no change|   1 vehicle|1994| Liability|              0.0|            1.0|       6.0|               0.0|                   4.0|               0.0|                     1.0|      0.0|                0.0|      4.0|        0.0|             1.0|                  1.0|               2.0|               0.0|            3334.0|           10.0|             0.0|               0.0|                       0.0|                    0.0|                     2.0|               0.0|                    0.0|                    0.0|                 0.0|            0.0|                      0.0|                      0.0|               0.0|       0.0|             1.0|(32,[1,2,4,6,9,11...|[3334.00015843199...|\n",
      "|  Jan|          5|   Friday|    Honda|       Rural|       Wednesday|         Feb|                 1|  Male|       Single|  0|  Third Party|   Sedan - Collision|          Sedan|more than 69000|           0|          14|       12|       400|           3|        more than 30|     more than 30|              none|         new|         16 to 17|               No|            No| External|               none|          no change|   1 vehicle|1994| Collision|              4.0|            1.0|       2.0|               1.0|                   2.0|               5.0|                     2.0|      0.0|                1.0|     20.0|        1.0|             0.0|                  0.0|               2.0|               0.0|            4445.0|            5.0|             0.0|               1.0|                       0.0|                    0.0|                     1.0|               4.0|                    6.0|                    0.0|                 0.0|            0.0|                      0.0|                      0.0|               0.0|       0.0|             0.0|(32,[0,1,2,3,4,5,...|[4445.00032948971...|\n",
      "|  Jan|          5|   Monday|     Ford|       Urban|        Thursday|         Feb|                 1|  Male|      Married| 61|Policy Holder|   Sedan - Liability|          Sport|more than 69000|           0|          15|        3|       400|           1|        more than 30|     more than 30|              none| more than 7|         51 to 65|               No|            No| External|               none|          no change|   1 vehicle|1994| Liability|              4.0|            0.0|       6.0|               0.0|                   3.0|               5.0|                     2.0|      0.0|                0.0|     34.0|        0.0|             1.0|                  1.0|               2.0|               0.0|            5556.0|            9.0|             0.0|               0.0|                       0.0|                    0.0|                     1.0|               1.0|                    3.0|                    0.0|                 0.0|            0.0|                      0.0|                      0.0|               0.0|       0.0|             1.0|(32,[0,2,4,5,6,9,...|[5556.00055404215...|\n",
      "|  Aug|          4|  Tuesday|     Ford|       Urban|          Monday|         Aug|                 5|  Male|       Single| 38|Policy Holder|   Sedan - Liability|          Sport|more than 69000|           0|          16|       16|       400|           1|        more than 30|     more than 30|              none|     6 years|         36 to 40|               No|            No| External|               none|          no change|   1 vehicle|1994| Liability|              2.0|            2.0|       6.0|               0.0|                   0.0|              11.0|                     4.0|      0.0|                1.0|     18.0|        0.0|             1.0|                  1.0|               2.0|               0.0|            6088.0|            7.0|             0.0|               0.0|                       0.0|                    0.0|                     1.0|               2.0|                    1.0|                    0.0|                 0.0|            0.0|                      0.0|                      0.0|               0.0|       0.0|             1.0|(32,[0,1,2,5,6,8,...|[6088.00038258216...|\n",
      "|  Apr|          4| Thursday|     Ford|       Urban|       Wednesday|         May|                 1|  Male|      Married| 41|Policy Holder|  Sedan - All Perils|          Sedan|more than 69000|           0|          17|       15|       400|           4|        more than 30|     more than 30|              none|     7 years|         36 to 40|               No|            No| External|               none|          no change|   1 vehicle|1994|All Perils|              2.0|            3.0|       6.0|               0.0|                   2.0|               1.0|                     2.0|      0.0|                0.0|     11.0|        0.0|             2.0|                  0.0|               2.0|               0.0|            6199.0|            6.0|             0.0|               3.0|                       0.0|                    0.0|                     1.0|               0.0|                    1.0|                    0.0|                 0.0|            0.0|                      0.0|                      0.0|               0.0|       0.0|             2.0|(32,[0,1,2,4,5,6,...|[6199.00020762991...|\n",
      "|  Jul|          5|   Sunday|Chevrolet|       Urban|       Wednesday|         Aug|                 1|Female|      Married| 28|  Third Party|   Sedan - Collision|          Sedan| 20000 to 29000|           0|          18|        6|       400|           1|        more than 30|     more than 30|              none|     7 years|         31 to 35|               No|            No| External|             1 to 2|          no change|   1 vehicle|1994| Collision|              4.0|            6.0|       4.0|               0.0|                   2.0|              11.0|                     2.0|      1.0|                0.0|      4.0|        1.0|             0.0|                  0.0|               0.0|               0.0|            6310.0|           11.0|             0.0|               0.0|                       0.0|                    0.0|                     1.0|               0.0|                    0.0|                    0.0|                 0.0|            0.0|                      2.0|                      0.0|               0.0|       0.0|             0.0|(32,[0,1,2,4,5,6,...|[6310.00024240174...|\n",
      "|  May|          4| Thursday|  Pontiac|       Urban|          Monday|         May|                 5|  Male|       Single| 32|Policy Holder|   Sedan - Liability|          Sport| 20000 to 29000|           0|          19|        6|       400|           1|        more than 30|     more than 30|                 1|     7 years|         31 to 35|               No|            No| External|               none|          no change|   1 vehicle|1994| Liability|              2.0|            3.0|       0.0|               0.0|                   0.0|               1.0|                     4.0|      0.0|                1.0|      7.0|        0.0|             1.0|                  1.0|               0.0|               0.0|            6421.0|           11.0|             0.0|               0.0|                       0.0|                    0.0|                     2.0|               0.0|                    0.0|                    0.0|                 0.0|            0.0|                      0.0|                      0.0|               0.0|       0.0|             1.0|(32,[0,1,5,6,8,9,...|[6421.00019536511...|\n",
      "|  Apr|          4|   Monday|    Honda|       Urban|         Tuesday|         May|                 1|  Male|      Married| 30|  Third Party|   Sedan - Liability|          Sport|more than 69000|           0|          20|        2|       400|           2|        more than 30|     more than 30|            2 to 4|     6 years|         31 to 35|               No|            No| External|        more than 5|          no change|   1 vehicle|1994| Liability|              2.0|            0.0|       2.0|               0.0|                   1.0|               1.0|                     2.0|      0.0|                0.0|      0.0|        1.0|             1.0|                  1.0|               2.0|               0.0|            6533.0|            8.0|             0.0|               2.0|                       0.0|                    0.0|                     0.0|               2.0|                    0.0|                    0.0|                 0.0|            0.0|                      1.0|                      0.0|               0.0|       0.0|             1.0|(32,[0,2,4,5,6,10...|[6533.00007801976...|\n",
      "+-----+-----------+---------+---------+------------+----------------+------------+------------------+------+-------------+---+-------------+--------------------+---------------+---------------+------------+------------+---------+----------+------------+--------------------+-----------------+------------------+------------+-----------------+-----------------+--------------+---------+-------------------+-------------------+------------+----+----------+-----------------+---------------+----------+------------------+----------------------+------------------+------------------------+---------+-------------------+---------+-----------+----------------+---------------------+------------------+------------------+------------------+---------------+----------------+------------------+--------------------------+-----------------------+------------------------+------------------+-----------------------+-----------------------+--------------------+---------------+-------------------------+-------------------------+------------------+----------+----------------+--------------------+--------------------+\n",
      "only showing top 20 rows\n",
      "\n",
      "67\n"
     ]
    }
   ],
   "source": [
    "# Apply PCA for dimensionality reduction\n",
    "pca = PCA(k=3, inputCol=\"features\", outputCol=\"pcaFeatures\")\n",
    "pca_model = pca.fit(df_with_features)\n",
    "reduced_df = pca_model.transform(df_with_features)\n",
    "\n",
    "# Display the reduced dimensionality DataFrame\n",
    "reduced_df.show()\n",
    "num_cols_reduced_df = print(len(reduced_df.columns))\n",
    "\n",
    "# Stop Spark session\n",
    "spark.stop()"
   ]
  },
  {
   "cell_type": "code",
   "execution_count": null,
   "id": "740f418b",
   "metadata": {},
   "outputs": [],
   "source": []
  },
  {
   "cell_type": "code",
   "execution_count": null,
   "id": "64e8e913",
   "metadata": {},
   "outputs": [],
   "source": []
  },
  {
   "cell_type": "code",
   "execution_count": null,
   "id": "2546f2b7",
   "metadata": {},
   "outputs": [],
   "source": []
  }
 ],
 "metadata": {
  "kernelspec": {
   "display_name": "Python 3",
   "language": "python",
   "name": "python3"
  },
  "language_info": {
   "codemirror_mode": {
    "name": "ipython",
    "version": 3
   },
   "file_extension": ".py",
   "mimetype": "text/x-python",
   "name": "python",
   "nbconvert_exporter": "python",
   "pygments_lexer": "ipython3",
   "version": "3.8.8"
  }
 },
 "nbformat": 4,
 "nbformat_minor": 5
}
